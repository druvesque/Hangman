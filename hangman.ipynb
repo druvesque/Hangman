{
 "cells": [
  {
   "cell_type": "code",
   "execution_count": 24,
   "id": "84bb86a0",
   "metadata": {},
   "outputs": [],
   "source": [
    "#words\n",
    "words = [\"aback\",\"abaft\",\"abandoned\",\"abashed\",\"aberrant\",\"abhorrent\",\"abiding\",\"abject\",\"ablaze\",\"able\",\"abnormal\",\"aboard\",\"aboriginal\",\"abortive\",\"abounding\",\"abrasive\",\"abrupt\",\"absent\",\"absorbed\",\"absorbing\",\"abstracted\",\"absurd\",\"abundant\",\"abusive\",\"accept\",\"acceptable\",\"accessible\",\"accidental\",\"account\",\"accurate\",\"achiever\",\"acid\",\"acidic\",\"acoustic\",\"acoustics\",\"acrid\",\"act\",\"action\",\"activity\",\"actor\",\"actually\",\"ad hoc\",\"adamant\",\"adaptable\",\"add\",\"addicted\",\"addition\",\"adhesive\",\"adjoining\",\"adjustment\",\"admire\",\"admit\",\"adorable\",\"adventurous\",\"advertisement\",\"advice\",\"advise\",\"afford\",\"afraid\",\"aftermath\",\"afternoon\",\"afterthought\",\"aggressive\",\"agonizing\",\"agree\",\"agreeable\",\"agreement\",\"ahead\",\"air\",\"airplane\",\"airport\",\"ajar\",\"alarm\",\"alcoholic\",\"alert\",\"alike\",\"alive\",\"alleged\",\"allow\",\"alluring\",\"aloof\",\"amazing\",\"ambiguous\",\"ambitious\",\"amount\",\"amuck\",\"amuse\",\"amused\",\"amusement\",\"amusing\",\"analyze\",\"ancient\",\"anger\",\"angle\",\"angry\",\"animal\",\"animated\",\"announce\",\"annoy\",\"annoyed\",\"annoying\",\"answer\",\"ants\",\"anxious\",\"apathetic\",\"apologise\",\"apparatus\",\"apparel\",\"appear\",\"applaud\",\"appliance\",\"appreciate\",\"approval\",\"approve\",\"aquatic\",\"arch\",\"argue\",\"argument\",\"arithmetic\",\"arm\",\"army\",\"aromatic\",\"arrange\",\"arrest\",\"arrive\",\"arrogant\",\"art\",\"ashamed\",\"ask\",\"aspiring\",\"assorted\",\"astonishing\",\"attach\",\"attack\",\"attempt\",\"attend\",\"attract\",\"attraction\",\"attractive\",\"aunt\",\"auspicious\",\"authority\",\"automatic\",\"available\",\"average\",\"avoid\",\"awake\",\"aware\",\"awesome\",\"awful\",\"axiomatic\",\"babies\",\"baby\",\"back\",\"bad\",\"badge\",\"bag\",\"bait\",\"bake\",\"balance\",\"ball\",\"ban\",\"bang\",\"barbarous\",\"bare\",\"base\",\"baseball\",\"bashful\",\"basin\",\"basket\",\"basketball\",\"bat\",\"bath\",\"bathe\",\"battle\",\"bawdy\",\"bead\",\"beam\",\"bear\",\"beautiful\",\"bed\",\"bedroom\",\"beds\",\"bee\",\"beef\",\"befitting\",\"beg\",\"beginner\",\"behave\",\"behavior\",\"belief\",\"believe\",\"bell\",\"belligerent\",\"bells\",\"belong\",\"beneficial\",\"bent\",\"berry\",\"berserk\",\"best\",\"better\",\"bewildered\",\"big\",\"bike\",\"bikes\",\"billowy\",\"bird\",\"birds\",\"birth\",\"birthday\",\"bit\",\"bite\",\"bite-sized\",\"bitter\",\"bizarre\",\"black\"]"
   ]
  },
  {
   "cell_type": "code",
   "execution_count": 25,
   "id": "d5e0781b",
   "metadata": {},
   "outputs": [],
   "source": [
    "import random\n",
    "import string"
   ]
  },
  {
   "cell_type": "code",
   "execution_count": 26,
   "id": "cd7a2238",
   "metadata": {},
   "outputs": [],
   "source": [
    "def get_word(words):\n",
    "    word = random.choice(words)\n",
    "    while '-' in word or ' ' in word:\n",
    "        word = random.choice(words)\n",
    "        \n",
    "    return word.upper() #we will be working with uppercase letters"
   ]
  },
  {
   "cell_type": "code",
   "execution_count": 27,
   "id": "3636d931",
   "metadata": {},
   "outputs": [],
   "source": [
    "def hangman():\n",
    "    word = get_word(words)\n",
    "    word_letters = set(word) #letters in the word\n",
    "    alphabet = set(string.ascii_uppercase)\n",
    "    used_letters = set() #what the user has guessed\n",
    "    \n",
    "    lives = 7\n",
    "    \n",
    "    #getting user input\n",
    "    while len(word_letters) > 0 and lives > 0:\n",
    "        \n",
    "        print(f\"You have {lives} lives left. Used these letters: \", ' '.join(used_letters))\n",
    "        word_list = [letter if letter in used_letters else '-' for letter in word]\n",
    "        print(\"Current word: \", ' '.join(word_list))\n",
    "        \n",
    "        user_letter = input(\"Guess a letter: \").upper()\n",
    "        if user_letter in alphabet - used_letters:\n",
    "            used_letters.add(user_letter)\n",
    "            if user_letter in word_letters:\n",
    "                word_letters.remove(user_letter)\n",
    "            else:\n",
    "                lives = lives - 1\n",
    "                print(\"Letter is not in the word\")\n",
    "\n",
    "        elif user_letter in used_letters:\n",
    "            print(\"You've already guessed that letter. Please try again!\")\n",
    "\n",
    "        else:\n",
    "            print(\"Invalid character. Please try again!\")\n",
    "            \n",
    "    if (lives == 0):\n",
    "        print(f\"You died, the word was {word}.\")\n",
    "    else:\n",
    "        print(f\"You guessed the word, {word} !\")"
   ]
  },
  {
   "cell_type": "code",
   "execution_count": 28,
   "id": "2c8e2672",
   "metadata": {},
   "outputs": [
    {
     "name": "stdout",
     "output_type": "stream",
     "text": [
      "You have 7 lives left. Used these letters:  \n",
      "Current word:  - - - - - -\n",
      "Guess a letter: a\n",
      "Letter is not in the word\n",
      "You have 6 lives left. Used these letters:  A\n",
      "Current word:  - - - - - -\n",
      "Guess a letter: s\n",
      "Letter is not in the word\n",
      "You have 5 lives left. Used these letters:  A S\n",
      "Current word:  - - - - - -\n",
      "Guess a letter: e\n",
      "You have 5 lives left. Used these letters:  A E S\n",
      "Current word:  - E - - E -\n",
      "Guess a letter: i\n",
      "Letter is not in the word\n",
      "You have 4 lives left. Used these letters:  A E I S\n",
      "Current word:  - E - - E -\n",
      "Guess a letter: t\n",
      "You have 4 lives left. Used these letters:  E S A T I\n",
      "Current word:  - E T T E -\n",
      "Guess a letter: l\n",
      "Letter is not in the word\n",
      "You have 3 lives left. Used these letters:  E L S A T I\n",
      "Current word:  - E T T E -\n",
      "Guess a letter: r\n",
      "You have 3 lives left. Used these letters:  E L S A R T I\n",
      "Current word:  - E T T E R\n",
      "Guess a letter: b\n",
      "You guessed the word, BETTER !\n"
     ]
    }
   ],
   "source": [
    "hangman()"
   ]
  }
 ],
 "metadata": {
  "kernelspec": {
   "display_name": "Python 3 (ipykernel)",
   "language": "python",
   "name": "python3"
  },
  "language_info": {
   "codemirror_mode": {
    "name": "ipython",
    "version": 3
   },
   "file_extension": ".py",
   "mimetype": "text/x-python",
   "name": "python",
   "nbconvert_exporter": "python",
   "pygments_lexer": "ipython3",
   "version": "3.10.9"
  }
 },
 "nbformat": 4,
 "nbformat_minor": 5
}
